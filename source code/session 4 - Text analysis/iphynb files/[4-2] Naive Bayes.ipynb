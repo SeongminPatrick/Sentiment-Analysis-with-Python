{
 "cells": [
  {
   "cell_type": "code",
   "execution_count": 1,
   "metadata": {
    "collapsed": true
   },
   "outputs": [],
   "source": [
    "import os\n",
    "import nltk\n",
    "from nltk.corpus import stopwords"
   ]
  },
  {
   "cell_type": "markdown",
   "metadata": {},
   "source": [
    "## 실습 4-2.1. nltk의 Naïve Bayes classifier를 통해 영화 리뷰를 긍정 혹은 부정으로 classify하고 그 결과를 출력해 본다\n",
    "- 학습 데이터와 검증 데이터는 각각 긍정 리뷰 1000개, 부정 리뷰 1000개로 이루어져야 한다. 즉, 학습 데이터 2000개로 학습을 하고 검증 데이터 2000개로 그 performance를 검증해 본다\n",
    "- 학습을 위해서는 nltk.NaiveBayesClassifier.train()을 활용하고 검증을 위해서는 nltk.classify.accuracy()를 활용한다"
   ]
  },
  {
   "cell_type": "code",
   "execution_count": 3,
   "metadata": {
    "collapsed": true
   },
   "outputs": [],
   "source": [
    "stopWords = set(stopwords.words('english'))\n",
    "words = []"
   ]
  },
  {
   "cell_type": "code",
   "execution_count": 4,
   "metadata": {
    "collapsed": true
   },
   "outputs": [],
   "source": [
    "files = os.listdir('aclImdb/train/pos')\n",
    "for file in files:\n",
    "    with open('aclImdb/train/pos/{}'.format(file), 'r', encoding = 'utf-8') as f:\n",
    "        review = nltk.word_tokenize(f.read())\n",
    "        for token in review:\n",
    "            if token not in stopWords:\n",
    "                words.append(token)"
   ]
  },
  {
   "cell_type": "code",
   "execution_count": 5,
   "metadata": {
    "collapsed": false
   },
   "outputs": [
    {
     "name": "stdout",
     "output_type": "stream",
     "text": [
      "4557590\n"
     ]
    }
   ],
   "source": [
    "files = os.listdir('aclImdb/train/neg')\n",
    "for file in files:\n",
    "    with open('aclImdb/train/neg/{}'.format(file), 'r', encoding = 'utf-8') as f:\n",
    "        review = nltk.word_tokenize(f.read())\n",
    "        for token in review:\n",
    "            if token not in stopWords:\n",
    "                words.append(token)\n",
    "print(len(words))"
   ]
  },
  {
   "cell_type": "code",
   "execution_count": 6,
   "metadata": {
    "collapsed": true
   },
   "outputs": [],
   "source": [
    "words = nltk.FreqDist(words)\n",
    "word_features = list(words.keys())[:3000]"
   ]
  },
  {
   "cell_type": "code",
   "execution_count": 7,
   "metadata": {
    "collapsed": true
   },
   "outputs": [],
   "source": [
    "def find_features(doc):\n",
    "    words = set(doc)\n",
    "    features = {}\n",
    "    for w in word_features:\n",
    "        features[w] = (w in words)\n",
    "    return features"
   ]
  },
  {
   "cell_type": "code",
   "execution_count": 36,
   "metadata": {
    "collapsed": true
   },
   "outputs": [],
   "source": [
    "feature_sets = []\n",
    "files = os.listdir('aclImdb/train/pos')[:1000]\n",
    "for file in files:\n",
    "    with open('aclImdb/train/pos/{}'.format(file), 'r', encoding = 'utf-8') as f:\n",
    "        review = nltk.word_tokenize(f.read())\n",
    "        feature_sets.append((find_features(review), 'pos'))"
   ]
  },
  {
   "cell_type": "code",
   "execution_count": 37,
   "metadata": {
    "collapsed": true
   },
   "outputs": [],
   "source": [
    "files = os.listdir('aclImdb/train/neg')[:1000]\n",
    "for file in files:\n",
    "    with open('aclImdb/train/neg/{}'.format(file), 'r', encoding = 'utf-8') as f:\n",
    "        review = nltk.word_tokenize(f.read())\n",
    "        feature_sets.append((find_features(review), 'neg'))"
   ]
  },
  {
   "cell_type": "code",
   "execution_count": 38,
   "metadata": {
    "collapsed": true
   },
   "outputs": [],
   "source": [
    "files = os.listdir('aclImdb/test/pos')[:1000]\n",
    "for file in files:\n",
    "    with open('aclImdb/test/pos/{}'.format(file), 'r', encoding = 'utf-8') as f:\n",
    "        review = nltk.word_tokenize(f.read())\n",
    "        feature_sets.append((find_features(review), 'pos'))"
   ]
  },
  {
   "cell_type": "code",
   "execution_count": 39,
   "metadata": {
    "collapsed": true
   },
   "outputs": [],
   "source": [
    "files = os.listdir('aclImdb/test/neg')[:1000]\n",
    "for file in files:\n",
    "    with open('aclImdb/test/neg/{}'.format(file), 'r', encoding = 'utf-8') as f:\n",
    "        review = nltk.word_tokenize(f.read())\n",
    "        feature_sets.append((find_features(review), 'neg'))"
   ]
  },
  {
   "cell_type": "code",
   "execution_count": 40,
   "metadata": {
    "collapsed": false
   },
   "outputs": [
    {
     "name": "stdout",
     "output_type": "stream",
     "text": [
      "2000\n",
      "2000\n"
     ]
    }
   ],
   "source": [
    "training_set = feature_sets[:2000]\n",
    "test_set = feature_sets[2000:]\n",
    "print(len(training_set))\n",
    "print(len(test_set))"
   ]
  },
  {
   "cell_type": "code",
   "execution_count": 41,
   "metadata": {
    "collapsed": true
   },
   "outputs": [],
   "source": [
    "clf = nltk.NaiveBayesClassifier.train(training_set)"
   ]
  },
  {
   "cell_type": "code",
   "execution_count": 45,
   "metadata": {
    "collapsed": false
   },
   "outputs": [],
   "source": [
    "result = nltk.classify.accuracy(clf, test_set)*100"
   ]
  },
  {
   "cell_type": "code",
   "execution_count": 46,
   "metadata": {
    "collapsed": false
   },
   "outputs": [
    {
     "name": "stdout",
     "output_type": "stream",
     "text": [
      "Accuracy of the Naive Bayes classification model:  82.0\n"
     ]
    }
   ],
   "source": [
    "print('Accuracy of the Naive Bayes classification model: ', result)"
   ]
  },
  {
   "cell_type": "markdown",
   "metadata": {},
   "source": [
    "## 실습 4-2-2. nltk의 Naïve Bayes classifier를 통해 전체 영화 리뷰를 긍정 혹은 부정으로 classify하고 그 결과를 출력해 본다\n",
    "- 학습 데이터와 검증 데이터는 각각 긍정 리뷰 12500개, 부정 리뷰 12500개로 이루어져야 한다. 즉, 학습 데이터 25000개로 학습을 하고 검증 데이터 25000개로 그 performance를 검증해 본다\n",
    "- 학습을 위해서는 nltk.NaiveBayesClassifier.train()을 활용하고 검증을 위해서는 nltk.classify.accuracy()를 활용한다"
   ]
  },
  {
   "cell_type": "code",
   "execution_count": 47,
   "metadata": {
    "collapsed": true
   },
   "outputs": [],
   "source": [
    "feature_sets = []\n",
    "files = os.listdir('aclImdb/train/pos')\n",
    "for file in files:\n",
    "    with open('aclImdb/train/pos/{}'.format(file), 'r', encoding = 'utf-8') as f:\n",
    "        review = nltk.word_tokenize(f.read())\n",
    "        feature_sets.append((find_features(review), 'pos'))\n",
    "\n",
    "files = os.listdir('aclImdb/train/neg')\n",
    "for file in files:\n",
    "    with open('aclImdb/train/neg/{}'.format(file), 'r', encoding = 'utf-8') as f:\n",
    "        review = nltk.word_tokenize(f.read())\n",
    "        feature_sets.append((find_features(review), 'neg'))\n",
    "\n",
    "files = os.listdir('aclImdb/test/pos')\n",
    "for file in files:\n",
    "    with open('aclImdb/test/pos/{}'.format(file), 'r', encoding = 'utf-8') as f:\n",
    "        review = nltk.word_tokenize(f.read())\n",
    "        feature_sets.append((find_features(review), 'pos'))\n",
    "        \n",
    "files = os.listdir('aclImdb/test/neg')\n",
    "for file in files:\n",
    "    with open('aclImdb/test/neg/{}'.format(file), 'r', encoding = 'utf-8') as f:\n",
    "        review = nltk.word_tokenize(f.read())\n",
    "        feature_sets.append((find_features(review), 'neg'))\n",
    "\n",
    "training_set = feature_sets[:25000]\n",
    "test_set = feature_sets[25000:]        \n",
    "\n",
    "clf = nltk.NaiveBayesClassifier.train(training_set)\n",
    "result = nltk.classify.accuracy(clf, test_set)*100"
   ]
  },
  {
   "cell_type": "code",
   "execution_count": 48,
   "metadata": {
    "collapsed": false
   },
   "outputs": [
    {
     "name": "stdout",
     "output_type": "stream",
     "text": [
      "Accuracy of the Naive Bayes classification model:  82.76\n"
     ]
    }
   ],
   "source": [
    "print('Accuracy of the Naive Bayes classification model: ', result)"
   ]
  }
 ],
 "metadata": {
  "kernelspec": {
   "display_name": "Python 3",
   "language": "python",
   "name": "python3"
  },
  "language_info": {
   "codemirror_mode": {
    "name": "ipython",
    "version": 3
   },
   "file_extension": ".py",
   "mimetype": "text/x-python",
   "name": "python",
   "nbconvert_exporter": "python",
   "pygments_lexer": "ipython3",
   "version": "3.6.0"
  }
 },
 "nbformat": 4,
 "nbformat_minor": 2
}
