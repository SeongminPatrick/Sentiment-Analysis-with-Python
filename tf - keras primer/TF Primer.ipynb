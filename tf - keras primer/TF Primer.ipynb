{
 "cells": [
  {
   "cell_type": "markdown",
   "metadata": {},
   "source": [
    "# Tensorflow (TF) Primer\n",
    "**References**\n",
    "- https://github.com/hunkim/DeepLearningZeroToAll\n",
    "- https://www.tensorflow.org/"
   ]
  },
  {
   "cell_type": "markdown",
   "metadata": {},
   "source": [
    "## TF Mechanics\n",
    "- TF is based on two fundamental elements: \"graphs(operations)\" and \"sessions\"\n",
    "- In order to run computation on TF, one has to define graphs(i.e. operations) and open sessions\n",
    "- Three steps of TF mechanics\n",
    "    - Build graph using TF operations\n",
    "    - Feed data & run graph (sess.run())\n",
    "    - Update variables in the graph"
   ]
  },
  {
   "cell_type": "markdown",
   "metadata": {},
   "source": [
    "![title](img/tf_mechanics.jpg)"
   ]
  },
  {
   "cell_type": "markdown",
   "metadata": {},
   "source": [
    "## Linear Regression with TF\n",
    "- Simple linear regression with one variable"
   ]
  },
  {
   "cell_type": "code",
   "execution_count": 3,
   "metadata": {
    "collapsed": false
   },
   "outputs": [],
   "source": [
    "import tensorflow as tf\n",
    "import matplotlib.pyplot as plt\n",
    "tf.set_random_seed(777)    # for reproducibility"
   ]
  },
  {
   "cell_type": "code",
   "execution_count": 4,
   "metadata": {
    "collapsed": true
   },
   "outputs": [],
   "source": [
    "x_train = [1,2,3]\n",
    "y_train = [1,2,3]"
   ]
  },
  {
   "cell_type": "markdown",
   "metadata": {},
   "source": [
    "### Plotting x_train and y_train\n",
    "- One could see that we could easily fit the straight line by setting (w,b) = (1,0)\n",
    "- However, we want to see that if TF can figure it out"
   ]
  },
  {
   "cell_type": "code",
   "execution_count": 5,
   "metadata": {
    "collapsed": false
   },
   "outputs": [
    {
     "data": {
      "image/png": "[encoded data removed]",
      "text/plain": [
       "<matplotlib.figure.Figure at 0xba72c88>"
      ]
     },
     "metadata": {},
     "output_type": "display_data"
    }
   ],
   "source": [
    "plt.plot(x_train, y_train)\n",
    "plt.grid()\n",
    "plt.show()"
   ]
  },
  {
   "cell_type": "markdown",
   "metadata": {},
   "source": [
    "### Hypothesis\n",
    "- Linear regression hypothesis: y = (x * W) + b"
   ]
  },
  {
   "cell_type": "markdown",
   "metadata": {},
   "source": [
    "- In TF, Variable == 'learnable', or 'estimat-able'\n",
    "- In other words, TF \"estimates\", or \"learns\" the values of the variables\n",
    "- Not to be confused with placeholders!"
   ]
  },
  {
   "cell_type": "code",
   "execution_count": 6,
   "metadata": {
    "collapsed": true
   },
   "outputs": [],
   "source": [
    "W = tf.Variable(tf.random_normal([1]), name = 'weight')\n",
    "b = tf.Variable(tf.random_normal([1]), name = 'bias')"
   ]
  },
  {
   "cell_type": "code",
   "execution_count": 7,
   "metadata": {
    "collapsed": true
   },
   "outputs": [],
   "source": [
    "hypothesis = x_train * W + b    # define the hypothesis"
   ]
  },
  {
   "cell_type": "markdown",
   "metadata": {},
   "source": [
    "### Cost/loss minimization\n",
    "- In this example, we minimize the cost(loss) with the Gradient Descent (GD) optimizer\n",
    "- There are a number of optimizers in TF: https://www.tensorflow.org/api_guides/python/train"
   ]
  },
  {
   "cell_type": "code",
   "execution_count": 8,
   "metadata": {
    "collapsed": true
   },
   "outputs": [],
   "source": [
    "cost = tf.reduce_mean(tf.square(hypothesis - y_train))    # cost/loss function"
   ]
  },
  {
   "cell_type": "code",
   "execution_count": 9,
   "metadata": {
    "collapsed": true
   },
   "outputs": [],
   "source": [
    "optimizer = tf.train.GradientDescentOptimizer(learning_rate = 0.01)\n",
    "train = optimizer.minimize(cost)"
   ]
  },
  {
   "cell_type": "markdown",
   "metadata": {},
   "source": [
    "### Running computations in a session\n",
    "- In order to \"implement\", or \"execute\" a computation in TF, a session has to be operated\n",
    "- Without sessions graphs(operations) are meaningless!\n",
    "- use tf.Session() with the context manager (with ~ as ~)"
   ]
  },
  {
   "cell_type": "code",
   "execution_count": 11,
   "metadata": {
    "collapsed": false
   },
   "outputs": [
    {
     "name": "stdout",
     "output_type": "stream",
     "text": [
      "0 2.82329 [ 2.12867713] [-0.85235667]\n",
      "100 0.113226 [ 1.39081788] [-0.88840771]\n",
      "200 0.0699668 [ 1.30721486] [-0.69837117]\n",
      "300 0.0432353 [ 1.24149871] [-0.54898357]\n",
      "400 0.0267167 [ 1.18983996] [-0.4315508]\n",
      "500 0.0165093 [ 1.14923155] [-0.33923826]\n",
      "600 0.0102017 [ 1.11730957] [-0.26667204]\n",
      "700 0.00630405 [ 1.0922159] [-0.20962858]\n",
      "800 0.00389553 [ 1.07249022] [-0.16478711]\n",
      "900 0.00240721 [ 1.05698395] [-0.12953788]\n",
      "1000 0.0014875 [ 1.04479456] [-0.10182849]\n",
      "1100 0.000919187 [ 1.03521252] [-0.08004645]\n",
      "1200 0.000567998 [ 1.02768016] [-0.06292368]\n",
      "1300 0.00035099 [ 1.02175927] [-0.04946378]\n",
      "1400 0.000216891 [ 1.01710474] [-0.03888312]\n",
      "1500 0.000134025 [ 1.01344585] [-0.03056567]\n",
      "1600 8.28196e-05 [ 1.01056981] [-0.02402747]\n",
      "1700 5.11766e-05 [ 1.00830877] [-0.01888768]\n",
      "1800 3.16242e-05 [ 1.00653136] [-0.01484741]\n",
      "1900 1.95421e-05 [ 1.00513422] [-0.01167146]\n",
      "2000 1.20761e-05 [ 1.00403607] [-0.00917497]\n"
     ]
    }
   ],
   "source": [
    "with tf.Session() as sess:    \n",
    "    sess.run(tf.global_variables_initializer())    # variables should be initialized before training\n",
    "    for step in range(2001):                       # 2000 steps(iterations) to train the model\n",
    "        sess.run(train)\n",
    "        if step%100 == 0:                          # for every 100 steps:\n",
    "            print(step, sess.run(cost), sess.run(W), sess.run(b))     # print out current states"
   ]
  },
  {
   "cell_type": "markdown",
   "metadata": {},
   "source": [
    "### Result\n",
    "After 2000 iterations, \n",
    "- Cost converges to zero (-> 1.20761e-05)\n",
    "- W (slope) converges to 1 (-> 1.00403607)\n",
    "- b (intercept) converges to 0 (-> -0.00917497)"
   ]
  },
  {
   "cell_type": "markdown",
   "metadata": {},
   "source": [
    "## Logistic Regression with TF\n",
    "- Logistic regression classification with TF"
   ]
  },
  {
   "cell_type": "code",
   "execution_count": 25,
   "metadata": {
    "collapsed": true
   },
   "outputs": [],
   "source": [
    "import tensorflow as tf\n",
    "import numpy as np\n",
    "tf.set_random_seed(777)    # for reproducibility"
   ]
  },
  {
   "cell_type": "code",
   "execution_count": 26,
   "metadata": {
    "collapsed": true
   },
   "outputs": [],
   "source": [
    "x_data = np.array([[1,2], [2,3], [3,1], [4,3], [5,3], [6,2]])\n",
    "y_data = np.array([[0],[0],[0],[1],[1],[1]])"
   ]
  },
  {
   "cell_type": "markdown",
   "metadata": {},
   "source": [
    "## Plotting x and y data\n",
    "- Finding a line to segregate 0 (red) and 1 (blue)?"
   ]
  },
  {
   "cell_type": "code",
   "execution_count": 30,
   "metadata": {
    "collapsed": false
   },
   "outputs": [
    {
     "data": {
      "image/png": "[encoded data removed]",
      "text/plain": [
       "<matplotlib.figure.Figure at 0xcad0da0>"
      ]
     },
     "metadata": {},
     "output_type": "display_data"
    }
   ],
   "source": [
    "colors = []\n",
    "for i in range(len(y_data)):\n",
    "    if y_data[i][0] == 0:\n",
    "        colors.append('red')\n",
    "    else:\n",
    "        colors.append('blue')\n",
    "    \n",
    "plt.scatter(x_data[:,0], x_data[:,1], c = colors)\n",
    "plt.show()"
   ]
  },
  {
   "cell_type": "markdown",
   "metadata": {},
   "source": [
    "### Placeholders for X and Y \n",
    "- With the predefined shape, one can feed changing data (variables), rather than immutable data\n",
    "- With the feed_dict attribute in sess.run() function, one can input appropriate data\n",
    "    - e.g. sess.run([hypothesis, predicted, accuracy], feed_dict = {X: x_data, Y: y_data})"
   ]
  },
  {
   "cell_type": "code",
   "execution_count": 14,
   "metadata": {
    "collapsed": true
   },
   "outputs": [],
   "source": [
    "X = tf.placeholder(tf.float32, shape = [None, 2])    # n X 2 placeholder\n",
    "Y = tf.placeholder(tf.float32, shape = [None, 1])    # n X 1 placeholder"
   ]
  },
  {
   "cell_type": "markdown",
   "metadata": {},
   "source": [
    "### Hypothesis\n",
    "- Logistic regression hypothesis: y = sigmoid(X * W + b)"
   ]
  },
  {
   "cell_type": "code",
   "execution_count": 15,
   "metadata": {
    "collapsed": true
   },
   "outputs": [],
   "source": [
    "W = tf.Variable(tf.random_normal([2,1]), name = 'weight')    # as there are two x variables, shape of the weight is defined as (2,1)\n",
    "b = tf.Variable(tf.random_normal([1]), name = 'bias')"
   ]
  },
  {
   "cell_type": "code",
   "execution_count": 16,
   "metadata": {
    "collapsed": true
   },
   "outputs": [],
   "source": [
    "hypothesis = tf.sigmoid(tf.matmul(X, W) + b)"
   ]
  },
  {
   "cell_type": "markdown",
   "metadata": {},
   "source": [
    "### Cost/loss minimization\n",
    "- GD optimizer is employed in this example as well"
   ]
  },
  {
   "cell_type": "code",
   "execution_count": 17,
   "metadata": {
    "collapsed": true
   },
   "outputs": [],
   "source": [
    "cost = -tf.reduce_mean(Y * tf.log(hypothesis) + (1-Y) * tf.log(1-hypothesis))"
   ]
  },
  {
   "cell_type": "code",
   "execution_count": 18,
   "metadata": {
    "collapsed": true
   },
   "outputs": [],
   "source": [
    "train = tf.train.GradientDescentOptimizer(learning_rate = 0.01).minimize(cost)"
   ]
  },
  {
   "cell_type": "markdown",
   "metadata": {},
   "source": [
    "### Accuracy computation\n",
    "- 1.0 if all predictions are correct, 0.0 if all predictions are wrong\n",
    "- Details\n",
    "    - tf.cast() \"casts a tensor to a new type\" (https://www.tensorflow.org/api_docs/python/tf/cast)\n",
    "    - tf.reduce_mean() \"computes the mean of elements across dimensions of a tensor\" (https://www.tensorflow.org/api_docs/python/tf/reduce_mean)\n",
    "    - tf.equal() \"returns the truth value of (x == y) element-wise\" (https://www.tensorflow.org/api_docs/python/tf/equal)"
   ]
  },
  {
   "cell_type": "code",
   "execution_count": 19,
   "metadata": {
    "collapsed": true
   },
   "outputs": [],
   "source": [
    "predicted = tf.cast(hypothesis > 0.5, dtype = tf.float32)    # 1 or 0 predictions\n",
    "accuracy = tf.reduce_mean(tf.cast(tf.equal(predicted, Y), dtype = tf.float32))"
   ]
  },
  {
   "cell_type": "markdown",
   "metadata": {},
   "source": [
    "### Running computations in a session"
   ]
  },
  {
   "cell_type": "code",
   "execution_count": 20,
   "metadata": {
    "collapsed": false
   },
   "outputs": [
    {
     "name": "stdout",
     "output_type": "stream",
     "text": [
      "0 2.06137\n",
      "100 0.698592\n",
      "200 0.642418\n",
      "300 0.625484\n",
      "400 0.61044\n",
      "500 0.596732\n",
      "600 0.584011\n",
      "700 0.572044\n",
      "800 0.560671\n",
      "900 0.549781\n",
      "1000 0.539294\n",
      "1100 0.529156\n",
      "1200 0.519326\n",
      "1300 0.509774\n",
      "1400 0.500479\n",
      "1500 0.491424\n",
      "1600 0.482596\n",
      "1700 0.473986\n",
      "1800 0.465585\n",
      "1900 0.457387\n",
      "\n",
      "Hypothesis:  [[ 0.20130855]\n",
      " [ 0.21162358]\n",
      " [ 0.76215398]\n",
      " [ 0.60394269]\n",
      " [ 0.7842257 ]\n",
      " [ 0.95094812]] \n",
      "Predicted (Y):  [[ 0.]\n",
      " [ 0.]\n",
      " [ 1.]\n",
      " [ 1.]\n",
      " [ 1.]\n",
      " [ 1.]] \n",
      "Accuracy:  0.833333\n"
     ]
    }
   ],
   "source": [
    "with tf.Session() as sess:\n",
    "    sess.run(tf.global_variables_initializer())\n",
    "    for step in range(2000):\n",
    "        cost_val, _ = sess.run([cost, train], feed_dict = {X: x_data, Y:y_data})\n",
    "        if step % 100 == 0:\n",
    "            print(step, cost_val)\n",
    "            \n",
    "    h, p, a = sess.run([hypothesis, predicted, accuracy], feed_dict = {X: x_data, Y: y_data})\n",
    "    print('\\nHypothesis: ', h, '\\nPredicted (Y): ', p, '\\nAccuracy: ', a)"
   ]
  },
  {
   "cell_type": "markdown",
   "metadata": {},
   "source": [
    "### Results\n",
    "- After 2000 iterations, cost(loss) is minimized to 0.457387\n",
    "- Accuracy is 0.83333\n",
    "- Actual & Predicted Y: 5 correct, 1 wrong (3rd place)\n",
    "     - Actual: [0,0,0,1,1,1]\n",
    "     - Predicted: [0,0,1,1,1,1]"
   ]
  },
  {
   "cell_type": "markdown",
   "metadata": {},
   "source": [
    "## Feedforward Neural Network (NN) with TF\n",
    "- Solving XOR problem with NN"
   ]
  },
  {
   "cell_type": "code",
   "execution_count": 21,
   "metadata": {
    "collapsed": true
   },
   "outputs": [],
   "source": [
    "import tensorflow as tf\n",
    "import numpy as np\n",
    "tf.set_random_seed(777)"
   ]
  },
  {
   "cell_type": "code",
   "execution_count": 45,
   "metadata": {
    "collapsed": true
   },
   "outputs": [],
   "source": [
    "x_data = np.array([[0,0], [0,1], [1,0], [1,1]], dtype = np.float32)\n",
    "y_data = np.array([[0], [1], [1], [0]], dtype = np.float32)"
   ]
  },
  {
   "cell_type": "markdown",
   "metadata": {},
   "source": [
    "### Plotting x and y data\n",
    "- Can you find a \"line\" to segregate the red and the blue points?"
   ]
  },
  {
   "cell_type": "code",
   "execution_count": 46,
   "metadata": {
    "collapsed": false
   },
   "outputs": [
    {
     "data": {
      "image/png": "[encoded data removed]",
      "text/plain": [
       "<matplotlib.figure.Figure at 0xd72c7b8>"
      ]
     },
     "metadata": {},
     "output_type": "display_data"
    }
   ],
   "source": [
    "colors = []\n",
    "for i in range(len(y_data)):\n",
    "    if y_data[i][0] == 0:\n",
    "        colors.append('red')\n",
    "    else:\n",
    "        colors.append('blue')\n",
    "    \n",
    "plt.scatter(x_data[:,0], x_data[:,1], c = colors)\n",
    "plt.show()"
   ]
  },
  {
   "cell_type": "markdown",
   "metadata": {},
   "source": [
    "### Placeholders for X and Y"
   ]
  },
  {
   "cell_type": "code",
   "execution_count": 47,
   "metadata": {
    "collapsed": true
   },
   "outputs": [],
   "source": [
    "X = tf.placeholder(tf.float32, [None, 2])\n",
    "Y = tf.placeholder(tf.float32, [None, 1])"
   ]
  },
  {
   "cell_type": "markdown",
   "metadata": {},
   "source": [
    "### Hypothesis\n",
    "- In this example, we create a shallow NN model with only one hidden layer\n",
    "- Size of the hidden layer = 2, activation ftn = sigmoid"
   ]
  },
  {
   "cell_type": "code",
   "execution_count": 48,
   "metadata": {
    "collapsed": false
   },
   "outputs": [],
   "source": [
    "W1 = tf.Variable(tf.random_normal([2,2]), name = 'weight1')\n",
    "b1 = tf.Variable(tf.random_normal([2]), name = 'bias1')\n",
    "layer1 = tf.sigmoid(tf.matmul(X, W1)+ b1)    # first (and only) hidden layer"
   ]
  },
  {
   "cell_type": "code",
   "execution_count": 49,
   "metadata": {
    "collapsed": true
   },
   "outputs": [],
   "source": [
    "W2 = tf.Variable(tf.random_normal([2,1]), name = 'weight2')\n",
    "b2 = tf.Variable(tf.random_normal([1]), name = 'bias2')"
   ]
  },
  {
   "cell_type": "code",
   "execution_count": 50,
   "metadata": {
    "collapsed": true
   },
   "outputs": [],
   "source": [
    "hypothesis = tf.sigmoid(tf.matmul(layer1, W2) + b2)"
   ]
  },
  {
   "cell_type": "markdown",
   "metadata": {},
   "source": [
    "### Cost(loss) minimization\n",
    "- As it is a classification problem, cost ftn is similar to the one in the logistic regression example"
   ]
  },
  {
   "cell_type": "code",
   "execution_count": 51,
   "metadata": {
    "collapsed": true
   },
   "outputs": [],
   "source": [
    "cost = -tf.reduce_mean(Y * tf.log(hypothesis) + (1-Y) * tf.log(1-hypothesis))"
   ]
  },
  {
   "cell_type": "code",
   "execution_count": 52,
   "metadata": {
    "collapsed": true
   },
   "outputs": [],
   "source": [
    "train = tf.train.GradientDescentOptimizer(learning_rate = 0.01).minimize(cost)"
   ]
  },
  {
   "cell_type": "markdown",
   "metadata": {},
   "source": [
    "### Accuracy computation"
   ]
  },
  {
   "cell_type": "code",
   "execution_count": 53,
   "metadata": {
    "collapsed": true
   },
   "outputs": [],
   "source": [
    "predicted = tf.cast(hypothesis > 0.5, dtype = tf.float32)\n",
    "accuracy = tf.reduce_mean(tf.cast(tf.equal(predicted, Y), dtype = tf.float32))"
   ]
  },
  {
   "cell_type": "markdown",
   "metadata": {},
   "source": [
    "### Running computations in a session\n",
    "- Executing a computation is largely similar to former examples - just be aware of the shape of data!"
   ]
  },
  {
   "cell_type": "code",
   "execution_count": 55,
   "metadata": {
    "collapsed": false
   },
   "outputs": [
    {
     "name": "stdout",
     "output_type": "stream",
     "text": [
      "0 0.704821 [array([[ 0.75958705,  1.16811538],\n",
      "       [ 0.18156448,  0.45092812]], dtype=float32), array([[-0.31255046],\n",
      "       [-0.66213959]], dtype=float32)]\n",
      "100 0.698627 [array([[ 0.75695157,  1.159832  ],\n",
      "       [ 0.17745894,  0.44448024]], dtype=float32), array([[-0.26980954],\n",
      "       [-0.63131505]], dtype=float32)]\n",
      "200 0.696064 [array([[ 0.75511611,  1.15352535],\n",
      "       [ 0.17437398,  0.43997288]], dtype=float32), array([[-0.24192224],\n",
      "       [-0.61108583]], dtype=float32)]\n",
      "300 0.69499 [array([[ 0.75373149,  1.14844322],\n",
      "       [ 0.17187506,  0.43666542]], dtype=float32), array([[-0.22356236],\n",
      "       [-0.59760904]], dtype=float32)]\n",
      "400 0.694526 [array([[ 0.7526114 ,  1.1441344 ],\n",
      "       [ 0.16972569,  0.43411994]], dtype=float32), array([[-0.21130335],\n",
      "       [-0.58844316]], dtype=float32)]\n",
      "500 0.694314 [array([[ 0.75165236,  1.14032376],\n",
      "       [ 0.16779232,  0.43207178]], dtype=float32), array([[-0.20295157],\n",
      "       [-0.58203918]], dtype=float32)]\n",
      "600 0.694204 [array([[ 0.75079519,  1.13684165],\n",
      "       [ 0.16599673,  0.43035808]], dtype=float32), array([[-0.19710398],\n",
      "       [-0.57741272]], dtype=float32)]\n",
      "700 0.694138 [array([[ 0.75000453,  1.13358116],\n",
      "       [ 0.16429187,  0.42887655]], dtype=float32), array([[-0.19286275],\n",
      "       [-0.57393694]], dtype=float32)]\n",
      "800 0.69409 [array([[ 0.74925905,  1.13047504],\n",
      "       [ 0.16264915,  0.42756295]], dtype=float32), array([[-0.18965271],\n",
      "       [-0.57121229]], dtype=float32)]\n",
      "900 0.694051 [array([[ 0.74854529,  1.12747955],\n",
      "       [ 0.16105057,  0.42637578]], dtype=float32), array([[-0.18710527],\n",
      "       [-0.5689826 ]], dtype=float32)]\n",
      "1000 0.694014 [array([[ 0.74785531,  1.12456751],\n",
      "       [ 0.15948485,  0.42528868]], dtype=float32), array([[-0.18498403],\n",
      "       [-0.56708449]], dtype=float32)]\n",
      "1100 0.69398 [array([[ 0.74718332,  1.12172043],\n",
      "       [ 0.15794487,  0.42428404]], dtype=float32), array([[-0.18313715],\n",
      "       [-0.56541264]], dtype=float32)]\n",
      "1200 0.693948 [array([[ 0.7465266 ,  1.11892724],\n",
      "       [ 0.15642606,  0.42335051]], dtype=float32), array([[-0.18146726],\n",
      "       [-0.56389964]], dtype=float32)]\n",
      "1300 0.693916 [array([[ 0.74588239,  1.1161797 ],\n",
      "       [ 0.15492545,  0.42248026]], dtype=float32), array([[-0.17991173],\n",
      "       [-0.56250179]], dtype=float32)]\n",
      "1400 0.693885 [array([[ 0.74524939,  1.1134727 ],\n",
      "       [ 0.15344121,  0.42166778]], dtype=float32), array([[-0.17843045],\n",
      "       [-0.56119108]], dtype=float32)]\n",
      "1500 0.693854 [array([[ 0.74462676,  1.11080289],\n",
      "       [ 0.15197204,  0.42090923]], dtype=float32), array([[-0.17699748],\n",
      "       [-0.55994928]], dtype=float32)]\n",
      "1600 0.693824 [array([[ 0.74401426,  1.10816789],\n",
      "       [ 0.15051717,  0.42020184]], dtype=float32), array([[-0.17559628],\n",
      "       [-0.5587644 ]], dtype=float32)]\n",
      "1700 0.693795 [array([[ 0.74341029,  1.10556567],\n",
      "       [ 0.14907601,  0.4195433 ]], dtype=float32), array([[-0.17421617],\n",
      "       [-0.55762875]], dtype=float32)]\n",
      "1800 0.693767 [array([[ 0.74281621,  1.1029942 ],\n",
      "       [ 0.14764825,  0.41893193]], dtype=float32), array([[-0.17285036],\n",
      "       [-0.55653697]], dtype=float32)]\n",
      "1900 0.693739 [array([[ 0.74223   ,  1.10045362],\n",
      "       [ 0.14623354,  0.41836622]], dtype=float32), array([[-0.17149442],\n",
      "       [-0.55548555]], dtype=float32)]\n",
      "\n",
      "Hypothesis:  [[ 0.53061289]\n",
      " [ 0.5165565 ]\n",
      " [ 0.48820752]\n",
      " [ 0.47319961]] \n",
      "Predicted:  [[ 1.]\n",
      " [ 1.]\n",
      " [ 0.]\n",
      " [ 0.]] \n",
      "Accuracy:  0.5\n"
     ]
    }
   ],
   "source": [
    "with tf.Session() as sess:\n",
    "    sess.run(tf.global_variables_initializer())\n",
    "    \n",
    "    for step in range(2000):\n",
    "        sess.run(train, feed_dict = {X:x_data, Y:y_data})\n",
    "        if step % 100 == 0:\n",
    "            print(step, sess.run(cost, feed_dict = {X: x_data, Y: y_data}), sess.run([W1, W2]))\n",
    "    \n",
    "    h, p, a = sess.run([hypothesis, predicted, accuracy], feed_dict = {X: x_data, Y: y_data})\n",
    "    print('\\nHypothesis: ', h, '\\nPredicted: ', p, '\\nAccuracy: ', a)"
   ]
  },
  {
   "cell_type": "markdown",
   "metadata": {},
   "source": [
    "### Results\n",
    "- After 2000 iterations, cost is not much reduced (0.704821 -> 0.693739)\n",
    "- Followingly, accuracy is merely 0.5\n",
    "- Unsatisfied? Try with more iterations (>10000)"
   ]
  },
  {
   "cell_type": "markdown",
   "metadata": {},
   "source": [
    "## CNN with TF - Basics\n",
    "- CNN: the current state-of-the-art model architecture for image classification tasks( + alpha)"
   ]
  },
  {
   "cell_type": "markdown",
   "metadata": {},
   "source": [
    "### Components of CNN\n",
    "- Convolutional layers: a specified number of convolution filters are applied to the image. Then, the layer performs a set of mathematical operations for each subregion to produce a single value in the output feature map.\n",
    "- Pooling layers: downsample the image data extracted by the convolutional layers to reduce the dimensionality of the feature map to decrease processing time. A commonly used pooling algorithm is max poooling.\n",
    "- Fully connected layers: perform classification of the features extracted by the convolutional layers and downsampled by the pooling layers. Every node in the layer is connected to every node in the preceding layer"
   ]
  },
  {
   "cell_type": "markdown",
   "metadata": {},
   "source": [
    "![title](img/cnn.png)"
   ]
  },
  {
   "cell_type": "code",
   "execution_count": 2,
   "metadata": {
    "collapsed": true
   },
   "outputs": [],
   "source": [
    "%matplotlib inline\n",
    "import numpy as np\n",
    "import tensorflow as tf\n",
    "import matplotlib.pyplot as plt"
   ]
  },
  {
   "cell_type": "markdown",
   "metadata": {},
   "source": [
    "### Creating an image"
   ]
  },
  {
   "cell_type": "code",
   "execution_count": 3,
   "metadata": {
    "collapsed": false
   },
   "outputs": [
    {
     "name": "stdout",
     "output_type": "stream",
     "text": [
      "(1, 3, 3, 1)\n"
     ]
    }
   ],
   "source": [
    "sess = tf.InteractiveSession()\n",
    "image = np.array([[[[1],[2],[3]],\n",
    "                   [[4],[5],[6]],\n",
    "                   [[7],[8],[9]]]], dtype = np.float32)    # create 1 X 3 X 3 size image\n",
    "print(image.shape)"
   ]
  },
  {
   "cell_type": "code",
   "execution_count": 4,
   "metadata": {
    "collapsed": false
   },
   "outputs": [
    {
     "data": {
      "text/plain": [
       "<matplotlib.image.AxesImage at 0xb84ccc0>"
      ]
     },
     "execution_count": 4,
     "metadata": {},
     "output_type": "execute_result"
    },
    {
     "data": {
      "image/png": "[encoded data removed]",
      "text/plain": [
       "<matplotlib.figure.Figure at 0xb78ecc0>"
      ]
     },
     "metadata": {},
     "output_type": "display_data"
    }
   ],
   "source": [
    "plt.imshow(image.reshape(3,3), cmap = 'Greys')"
   ]
  },
  {
   "cell_type": "markdown",
   "metadata": {},
   "source": [
    "### tf.nn.conv2d\n",
    "- conv2d: computes a 2-D convolution given 4-D input and filter tensors\n",
    "- **tf.nn.conv2d**(input, filter, strides, padding, ...)\n",
    "    - **Input: ** Batch size X Height X Width X Input Channels\n",
    "    - **Filter: ** Height X Width X Input Channels X Output Channels\n",
    "    - **Strides: ** 4 element 1-D tensor, strides in each direction\n",
    "    - **Padding: **\n",
    "        - \"VALID\": drops the right-most columns (or bottom-most rows)\n",
    "        - \"SAME\": tries to pad evenly left and right\n",
    "        - https://stackoverflow.com/questions/37674306/what-is-the-difference-between-same-and-valid-padding-in-tf-nn-max-pool-of-t"
   ]
  },
  {
   "cell_type": "markdown",
   "metadata": {},
   "source": [
    "### Conv. layer with 1 Filter ((2,2,1,1)) with padding = 'VALID'"
   ]
  },
  {
   "cell_type": "markdown",
   "metadata": {},
   "source": [
    "![title](img/conv1.jpg)"
   ]
  },
  {
   "cell_type": "code",
   "execution_count": 5,
   "metadata": {
    "collapsed": false,
    "scrolled": true
   },
   "outputs": [
    {
     "name": "stdout",
     "output_type": "stream",
     "text": [
      "filter shape:  (2, 2, 1, 1)\n",
      "conv2d_img shape: (1, 2, 2, 1)\n"
     ]
    }
   ],
   "source": [
    "weight = tf.constant([[[[1.]],[[1.]]],\n",
    "                     [[[1.]],[[1.]]]])\n",
    "print('filter shape: ', weight.shape)\n",
    "conv2d = tf.nn.conv2d(image, weight, strides = [1,1,1,1], padding = 'VALID')\n",
    "conv2d_img = conv2d.eval()\n",
    "print('conv2d_img shape:', conv2d_img.shape)"
   ]
  },
  {
   "cell_type": "code",
   "execution_count": 6,
   "metadata": {
    "collapsed": false,
    "scrolled": true
   },
   "outputs": [
    {
     "name": "stdout",
     "output_type": "stream",
     "text": [
      "[[ 12.  16.]\n",
      " [ 24.  28.]]\n"
     ]
    },
    {
     "data": {
      "image/png": "[encoded data removed]",
      "text/plain": [
       "<matplotlib.figure.Figure at 0xb80fc50>"
      ]
     },
     "metadata": {},
     "output_type": "display_data"
    }
   ],
   "source": [
    "# operations to visualize the convolutional layer created\n",
    "conv2d_img = np.swapaxes(conv2d_img, 0, 3)\n",
    "for i, one_img in enumerate(conv2d_img):    \n",
    "    print(one_img.reshape(2,2))\n",
    "    plt.subplot(1,2,i+1), plt.imshow(one_img.reshape(2,2), cmap = 'gray')"
   ]
  },
  {
   "cell_type": "markdown",
   "metadata": {},
   "source": [
    "### Conv. layer with 1 filter ((2,2,1,1)) with padding = 'SAME'"
   ]
  },
  {
   "cell_type": "markdown",
   "metadata": {},
   "source": [
    "![title](img/conv2.jpg)"
   ]
  },
  {
   "cell_type": "code",
   "execution_count": 25,
   "metadata": {
    "collapsed": false,
    "scrolled": true
   },
   "outputs": [
    {
     "name": "stdout",
     "output_type": "stream",
     "text": [
      "filter shape:  (2, 2, 1, 1)\n"
     ]
    },
    {
     "ename": "NameError",
     "evalue": "name 'image' is not defined",
     "output_type": "error",
     "traceback": [
      "\u001b[0;31m---------------------------------------------------------------------------\u001b[0m",
      "\u001b[0;31mNameError\u001b[0m                                 Traceback (most recent call last)",
      "\u001b[0;32m<ipython-input-25-547df42f94ef>\u001b[0m in \u001b[0;36m<module>\u001b[0;34m()\u001b[0m\n\u001b[1;32m      2\u001b[0m                      [[[1.]],[[1.]]]])\n\u001b[1;32m      3\u001b[0m \u001b[0mprint\u001b[0m\u001b[1;33m(\u001b[0m\u001b[1;34m'filter shape: '\u001b[0m\u001b[1;33m,\u001b[0m \u001b[0mweight\u001b[0m\u001b[1;33m.\u001b[0m\u001b[0mshape\u001b[0m\u001b[1;33m)\u001b[0m\u001b[1;33m\u001b[0m\u001b[0m\n\u001b[0;32m----> 4\u001b[0;31m \u001b[0mconv2d\u001b[0m \u001b[1;33m=\u001b[0m \u001b[0mtf\u001b[0m\u001b[1;33m.\u001b[0m\u001b[0mnn\u001b[0m\u001b[1;33m.\u001b[0m\u001b[0mconv2d\u001b[0m\u001b[1;33m(\u001b[0m\u001b[0mimage\u001b[0m\u001b[1;33m,\u001b[0m \u001b[0mweight\u001b[0m\u001b[1;33m,\u001b[0m \u001b[0mstrides\u001b[0m \u001b[1;33m=\u001b[0m \u001b[1;33m[\u001b[0m\u001b[1;36m1\u001b[0m\u001b[1;33m,\u001b[0m\u001b[1;36m1\u001b[0m\u001b[1;33m,\u001b[0m\u001b[1;36m1\u001b[0m\u001b[1;33m,\u001b[0m\u001b[1;36m1\u001b[0m\u001b[1;33m]\u001b[0m\u001b[1;33m,\u001b[0m \u001b[0mpadding\u001b[0m \u001b[1;33m=\u001b[0m \u001b[1;34m'SAME'\u001b[0m\u001b[1;33m)\u001b[0m\u001b[1;33m\u001b[0m\u001b[0m\n\u001b[0m\u001b[1;32m      5\u001b[0m \u001b[0mconv2d_img\u001b[0m \u001b[1;33m=\u001b[0m \u001b[0mconv2d\u001b[0m\u001b[1;33m.\u001b[0m\u001b[0meval\u001b[0m\u001b[1;33m(\u001b[0m\u001b[1;33m)\u001b[0m\u001b[1;33m\u001b[0m\u001b[0m\n\u001b[1;32m      6\u001b[0m \u001b[0mprint\u001b[0m\u001b[1;33m(\u001b[0m\u001b[1;34m'conv2d_img shape:'\u001b[0m\u001b[1;33m,\u001b[0m \u001b[0mconv2d_img\u001b[0m\u001b[1;33m.\u001b[0m\u001b[0mshape\u001b[0m\u001b[1;33m)\u001b[0m\u001b[1;33m\u001b[0m\u001b[0m\n",
      "\u001b[0;31mNameError\u001b[0m: name 'image' is not defined"
     ]
    }
   ],
   "source": [
    "weight = tf.constant([[[[1.]],[[1.]]],\n",
    "                     [[[1.]],[[1.]]]])\n",
    "print('filter shape: ', weight.shape)\n",
    "conv2d = tf.nn.conv2d(image, weight, strides = [1,1,1,1], padding = 'SAME')\n",
    "conv2d_img = conv2d.eval()\n",
    "print('conv2d_img shape:', conv2d_img.shape)"
   ]
  },
  {
   "cell_type": "code",
   "execution_count": 8,
   "metadata": {
    "collapsed": false
   },
   "outputs": [
    {
     "name": "stdout",
     "output_type": "stream",
     "text": [
      "[[ 12.  16.   9.]\n",
      " [ 24.  28.  15.]\n",
      " [ 15.  17.   9.]]\n"
     ]
    },
    {
     "data": {
      "image/png": "[encoded data removed]",
      "text/plain": [
       "<matplotlib.figure.Figure at 0xbbf1f98>"
      ]
     },
     "metadata": {},
     "output_type": "display_data"
    }
   ],
   "source": [
    "# operations to visualize the convolutional layer created\n",
    "conv2d_img = np.swapaxes(conv2d_img, 0, 3)\n",
    "for i, one_img in enumerate(conv2d_img):    \n",
    "    print(one_img.reshape(3,3))\n",
    "    plt.subplot(1,2,i+1), plt.imshow(one_img.reshape(3,3), cmap = 'gray')"
   ]
  },
  {
   "cell_type": "markdown",
   "metadata": {},
   "source": [
    "### Conv. layer with 3 filters ((2,2,1,3)) with padding = 'SAME'"
   ]
  },
  {
   "cell_type": "code",
   "execution_count": 9,
   "metadata": {
    "collapsed": false
   },
   "outputs": [
    {
     "name": "stdout",
     "output_type": "stream",
     "text": [
      "filter shape:  (2, 2, 1, 3)\n",
      "conv2d_img shape:  (1, 3, 3, 3)\n"
     ]
    }
   ],
   "source": [
    "weight = tf.constant([[[[1., 10., -1]],[[1., 10., -1.]]], [[[1., 10., -1.]],[[1., 10., -1]]]])    # 3 filters = 3 output channels\n",
    "print('filter shape: ', weight.shape)\n",
    "conv2d = tf.nn.conv2d(image, weight, strides = [1,1,1,1], padding = 'SAME')\n",
    "conv2d_img = conv2d.eval()\n",
    "print('conv2d_img shape: ', conv2d_img.shape)"
   ]
  },
  {
   "cell_type": "code",
   "execution_count": 25,
   "metadata": {
    "collapsed": false
   },
   "outputs": [
    {
     "name": "stdout",
     "output_type": "stream",
     "text": [
      "[[ 12.  16.   9.]\n",
      " [ 24.  28.  15.]\n",
      " [ 15.  17.   9.]]\n",
      "[[ 120.  160.   90.]\n",
      " [ 240.  280.  150.]\n",
      " [ 150.  170.   90.]]\n",
      "[[-12. -16.  -9.]\n",
      " [-24. -28. -15.]\n",
      " [-15. -17.  -9.]]\n"
     ]
    },
    {
     "data": {
      "image/png": "[encoded data removed]",
      "text/plain": [
       "<matplotlib.figure.Figure at 0xd043fd0>"
      ]
     },
     "metadata": {},
     "output_type": "display_data"
    }
   ],
   "source": [
    "conv2d_img = np.swapaxes(conv2d_img, 0, 3)\n",
    "for i, one_img in enumerate(conv2d_img):\n",
    "    print(one_img.reshape(3,3))\n",
    "    plt.subplot(1,3,i+1), plt.imshow(one_img.reshape(3,3), cmap='gray')"
   ]
  },
  {
   "cell_type": "markdown",
   "metadata": {},
   "source": [
    "### Max pooling\n",
    "- max_pool: performs the max pooling on the input\n",
    "- **tf.nn.max_pool**(value, ksize, strides, padding, ...)\n",
    "    - **value**: [Batch size X Height X Width X Channels]\n",
    "    - **ksize**: The size of the window for each dimension of the input tensor (a list of ints that has length >= 4)\n",
    "    - **strides**: The stride of the sliding window for each dimension of the input tensor (a list of ints that has length >= 4)"
   ]
  },
  {
   "cell_type": "markdown",
   "metadata": {},
   "source": [
    "![title](img/max_pool.png)"
   ]
  },
  {
   "cell_type": "code",
   "execution_count": 13,
   "metadata": {
    "collapsed": true
   },
   "outputs": [],
   "source": [
    "image = np.array([[[[4],[3]], [[2],[1]]]], dtype = np.float32)\n",
    "pool = tf.nn.max_pool(image, ksize = [1,2,2,1], strides = [1,1,1,1], padding = 'VALID')    # 2X2 filter"
   ]
  },
  {
   "cell_type": "code",
   "execution_count": 14,
   "metadata": {
    "collapsed": false
   },
   "outputs": [
    {
     "name": "stdout",
     "output_type": "stream",
     "text": [
      "(1, 1, 1, 1)\n",
      "[[[[ 4.]]]]\n"
     ]
    }
   ],
   "source": [
    "print(pool.shape)\n",
    "print(pool.eval())"
   ]
  },
  {
   "cell_type": "markdown",
   "metadata": {},
   "source": [
    "### Max pooling with zero paddings"
   ]
  },
  {
   "cell_type": "markdown",
   "metadata": {},
   "source": [
    "![title](img/max_pool2.png)"
   ]
  },
  {
   "cell_type": "code",
   "execution_count": 15,
   "metadata": {
    "collapsed": true
   },
   "outputs": [],
   "source": [
    "image = np.array([[[[4],[3]], [[2],[1]]]], dtype = np.float32)\n",
    "pool= tf.nn.max_pool(image, ksize = [1,2,2,1], strides = [1,1,1,1], padding = 'SAME')"
   ]
  },
  {
   "cell_type": "code",
   "execution_count": 16,
   "metadata": {
    "collapsed": false
   },
   "outputs": [
    {
     "name": "stdout",
     "output_type": "stream",
     "text": [
      "(1, 2, 2, 1)\n",
      "[[[[ 4.]\n",
      "   [ 3.]]\n",
      "\n",
      "  [[ 2.]\n",
      "   [ 1.]]]]\n"
     ]
    }
   ],
   "source": [
    "print(pool.shape)\n",
    "print(pool.eval())"
   ]
  },
  {
   "cell_type": "markdown",
   "metadata": {},
   "source": [
    "### TF layers\n",
    "- tf.layers: high-level neural networks layers\n",
    "- Easy to construct layers using layers module\n",
    "- https://www.tensorflow.org/api_docs/python/tf/layers"
   ]
  },
  {
   "cell_type": "code",
   "execution_count": null,
   "metadata": {
    "collapsed": true
   },
   "outputs": [],
   "source": [
    "# layers example\n",
    "conv1 = tf.layers.conv2d(inputs = X_img, filters = 32, kernel_size = [3,3], padding = 'SAME', activation = tf.nn.relu)\n",
    "pool1 = tf.layers.max_pooling2d(inputs = conv1, pool_size = [2,2], padding = 'SAME', strides = 2)\n",
    "dropout1 = tf.layers.dropout(inputs = pool1, rate = 0.7, training = self.training)"
   ]
  },
  {
   "cell_type": "markdown",
   "metadata": {},
   "source": [
    "### Convolution & Max pooling on MNIST Data\n",
    "- https://www.tensorflow.org/get_started/mnist/beginners"
   ]
  },
  {
   "cell_type": "markdown",
   "metadata": {},
   "source": [
    "![title](img/MNIST-Matrix.png)"
   ]
  },
  {
   "cell_type": "code",
   "execution_count": 17,
   "metadata": {
    "collapsed": false
   },
   "outputs": [
    {
     "name": "stdout",
     "output_type": "stream",
     "text": [
      "Successfully downloaded train-images-idx3-ubyte.gz 9912422 bytes.\n",
      "Extracting MNIST_data/train-images-idx3-ubyte.gz\n",
      "Successfully downloaded train-labels-idx1-ubyte.gz 28881 bytes.\n",
      "Extracting MNIST_data/train-labels-idx1-ubyte.gz\n",
      "Successfully downloaded t10k-images-idx3-ubyte.gz 1648877 bytes.\n",
      "Extracting MNIST_data/t10k-images-idx3-ubyte.gz\n",
      "Successfully downloaded t10k-labels-idx1-ubyte.gz 4542 bytes.\n",
      "Extracting MNIST_data/t10k-labels-idx1-ubyte.gz\n"
     ]
    }
   ],
   "source": [
    "from tensorflow.examples.tutorials.mnist import input_data\n",
    "mnist = input_data.read_data_sets('MNIST_data/', one_hot = True)"
   ]
  },
  {
   "cell_type": "code",
   "execution_count": 19,
   "metadata": {
    "collapsed": false
   },
   "outputs": [
    {
     "data": {
      "text/plain": [
       "(784,)"
      ]
     },
     "execution_count": 19,
     "metadata": {},
     "output_type": "execute_result"
    }
   ],
   "source": [
    "img = mnist.train.images[0]\n",
    "img.shape    # original data with shape (784, )"
   ]
  },
  {
   "cell_type": "code",
   "execution_count": 23,
   "metadata": {
    "collapsed": false,
    "scrolled": true
   },
   "outputs": [
    {
     "data": {
      "text/plain": [
       "<matplotlib.image.AxesImage at 0x105b7f98>"
      ]
     },
     "execution_count": 23,
     "metadata": {},
     "output_type": "execute_result"
    },
    {
     "data": {
      "image/png": "[encoded data removed]",
      "text/plain": [
       "<matplotlib.figure.Figure at 0x10534898>"
      ]
     },
     "metadata": {},
     "output_type": "display_data"
    }
   ],
   "source": [
    "img = img.reshape(28, 28)\n",
    "plt.imshow(img, cmap = 'gray')"
   ]
  },
  {
   "cell_type": "code",
   "execution_count": 25,
   "metadata": {
    "collapsed": false
   },
   "outputs": [
    {
     "data": {
      "text/plain": [
       "(1, 28, 28, 1)"
      ]
     },
     "execution_count": 25,
     "metadata": {},
     "output_type": "execute_result"
    }
   ],
   "source": [
    "sess = tf.InteractiveSession()\n",
    "\n",
    "img = img.reshape(-1, 28, 28, 1)\n",
    "img.shape"
   ]
  },
  {
   "cell_type": "code",
   "execution_count": 29,
   "metadata": {
    "collapsed": false
   },
   "outputs": [
    {
     "name": "stdout",
     "output_type": "stream",
     "text": [
      "Tensor(\"Conv2D_5:0\", shape=(1, 14, 14, 5), dtype=float32)\n"
     ]
    }
   ],
   "source": [
    "W1 = tf.Variable(tf.random_normal([3,3,1,5], stddev = 0.01))     # 3 X 3 filter\n",
    "conv2d = tf.nn.conv2d(img, W1, strides = [1,2,2,1], padding = 'SAME')\n",
    "print(conv2d)"
   ]
  },
  {
   "cell_type": "code",
   "execution_count": 27,
   "metadata": {
    "collapsed": false
   },
   "outputs": [
    {
     "data": {
      "image/png": "[encoded data removed]",
      "text/plain": [
       "<matplotlib.figure.Figure at 0x10580da0>"
      ]
     },
     "metadata": {},
     "output_type": "display_data"
    }
   ],
   "source": [
    "sess.run(tf.global_variables_initializer())\n",
    "conv2d_img = conv2d.eval()\n",
    "conv2d_img = np.swapaxes(conv2d_img, 0, 3)\n",
    "for i, one_img in enumerate(conv2d_img):\n",
    "    plt.subplot(1,5,i+1), plt.imshow(one_img.reshape(14,14), cmap='gray')"
   ]
  },
  {
   "cell_type": "code",
   "execution_count": 30,
   "metadata": {
    "collapsed": false
   },
   "outputs": [
    {
     "name": "stdout",
     "output_type": "stream",
     "text": [
      "Tensor(\"MaxPool_3:0\", shape=(1, 7, 7, 5), dtype=float32)\n"
     ]
    }
   ],
   "source": [
    "pool = tf.nn.max_pool(conv2d, ksize = [1,2,2,1], strides = [1,2,2,1], padding = 'SAME')\n",
    "print(pool)"
   ]
  },
  {
   "cell_type": "code",
   "execution_count": 31,
   "metadata": {
    "collapsed": false
   },
   "outputs": [
    {
     "data": {
      "image/png": "[encoded data removed]",
      "text/plain": [
       "<matplotlib.figure.Figure at 0x106eb128>"
      ]
     },
     "metadata": {},
     "output_type": "display_data"
    }
   ],
   "source": [
    "sess.run(tf.global_variables_initializer())\n",
    "pool_img = pool.eval()\n",
    "pool_img = np.swapaxes(pool_img, 0, 3)\n",
    "for i, one_img in enumerate(pool_img):\n",
    "    plt.subplot(1,5,i+1), plt.imshow(one_img.reshape(7, 7), cmap='gray')"
   ]
  },
  {
   "cell_type": "markdown",
   "metadata": {},
   "source": [
    "## RNN with TF - basics\n",
    "- RNN: popular model that has shown great promise in may NLP tasks"
   ]
  },
  {
   "cell_type": "markdown",
   "metadata": {},
   "source": [
    "### RNN structure\n",
    "- RNNs are called recurrent since they perform the same task for every element of a sequence, with the output being depended on the previous computations\n",
    "- They have a \"memory\" which captures information about what has been calculated so far"
   ]
  },
  {
   "cell_type": "markdown",
   "metadata": {},
   "source": [
    "![title](img/rnn.jpg)"
   ]
  },
  {
   "cell_type": "markdown",
   "metadata": {},
   "source": [
    "### Applications of RNN\n",
    "- Language modeling and generating text\n",
    "- Machine translation\n",
    "- Speech recognition\n",
    "- Generating image descriptions"
   ]
  },
  {
   "cell_type": "code",
   "execution_count": 22,
   "metadata": {
    "collapsed": true
   },
   "outputs": [],
   "source": [
    "import tensorflow as tf\n",
    "from tensorflow.contrib import rnn\n",
    "import numpy as np\n",
    "tf.reset_default_graph()\n",
    "sess = tf.InteractiveSession()"
   ]
  },
  {
   "cell_type": "markdown",
   "metadata": {},
   "source": [
    "### Creating RNN cell\n",
    "- TF provides a number of RNN cells to implement. LSTMCell is the most popular one\n",
    "    - **tf.contrib.rnn.BasicRNNCell**(num_units)\n",
    "    - **tf.contrib.rnn.BasicLSTMCell**(num_units)\n",
    "    - **tf.contrib.rnn.GRUCell**(num_units)"
   ]
  },
  {
   "cell_type": "code",
   "execution_count": 23,
   "metadata": {
    "collapsed": true
   },
   "outputs": [],
   "source": [
    "cell = rnn.BasicRNNCell(num_units = 3)    # hidden size = 3"
   ]
  },
  {
   "cell_type": "markdown",
   "metadata": {},
   "source": [
    "### Creating a recurrent neural network (RNN)\n",
    "- **tf.nn.dynamic_rnn**(cell, inputs)\n",
    "    - cell: an instance of RNNCell\n",
    "    - inputs: the RNN inputs"
   ]
  },
  {
   "cell_type": "code",
   "execution_count": 24,
   "metadata": {
    "collapsed": false
   },
   "outputs": [
    {
     "name": "stdout",
     "output_type": "stream",
     "text": [
      "[[[ 0.47147113 -0.57882524  0.62443161]]]\n"
     ]
    }
   ],
   "source": [
    "input_data = np.array([[[1,0,0,0]]], dtype = np.float32)\n",
    "outputs, _states = tf.nn.dynamic_rnn(cell, input_data, dtype = tf.float32)\n",
    "sess.run(tf.global_variables_initializer())\n",
    "print(outputs.eval())    # output size of (1,1,3)"
   ]
  }
 ],
 "metadata": {
  "kernelspec": {
   "display_name": "Python 3",
   "language": "python",
   "name": "python3"
  },
  "language_info": {
   "codemirror_mode": {
    "name": "ipython",
    "version": 3
   },
   "file_extension": ".py",
   "mimetype": "text/x-python",
   "name": "python",
   "nbconvert_exporter": "python",
   "pygments_lexer": "ipython3",
   "version": "3.6.0"
  }
 },
 "nbformat": 4,
 "nbformat_minor": 2
}
